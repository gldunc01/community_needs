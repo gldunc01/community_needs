{
 "cells": [
  {
   "cell_type": "code",
   "execution_count": null,
   "metadata": {},
   "outputs": [],
   "source": [
    "import pandas as pd\n",
    "import numpy as np\n",
    "import matplotlib.pyplot as plt"
   ]
  },
  {
   "cell_type": "code",
   "execution_count": null,
   "metadata": {},
   "outputs": [],
   "source": [
    "#Reading in service episodes raw csv using pandas and changing some datatypes\n",
    "ser = pd.read_csv('service_episode_raw.csv')\n",
    "ser[['ClientID', 'ServiceEpisodeID']] = ser[['ClientID', 'ServiceEpisodeID']].astype(str)\n",
    "ser['Created At'] =  pd.to_datetime(ser['Created At'], format='%m/%d/%Y %H:%M')"
   ]
  },
  {
   "cell_type": "code",
   "execution_count": null,
   "metadata": {},
   "outputs": [],
   "source": [
    "#Reading in the lookup table of organizations and their county, state and zipcodes\n",
    "orgs_lookup_table = pd.read_csv('orgs.csv')"
   ]
  },
  {
   "cell_type": "markdown",
   "metadata": {},
   "source": [
    "This lookup_table houses the information needed to fill in empty data points for the clients. Some of the clients have missing state, county and zip code information. Using this lookup_table, based on the organization that the client presented their need to, allows us to have an accurate picture of their address information."
   ]
  },
  {
   "cell_type": "code",
   "execution_count": null,
   "metadata": {},
   "outputs": [],
   "source": [
    "#This function replaces all NaN values in a service episode raw column by looking up the organization value from orgs_lookup_table\n",
    "\n",
    "def ser_replace_nan(col, value):\n",
    "    return np.where(\n",
    "        ser[col].isnull(),\n",
    "        ser['Originating Organization'].map(orgs_lookup_table.set_index('OrganizationID')[value]),\n",
    "        ser[col]\n",
    "        )\n",
    "\n",
    "ser['Address 1 State'] = ser_replace_nan('Address 1 State', 'State')\n",
    "ser['Address 1 County'] = ser_replace_nan('Address 1 County', 'County')\n"
   ]
  },
  {
   "cell_type": "code",
   "execution_count": null,
   "metadata": {},
   "outputs": [],
   "source": [
    "#Finding and cleaning the 9-digit zipcodes. We want to truncate them to 5-digits\n",
    "long_zip_codes = ser['Address 1 Postal Code'].str.len() > 5\n",
    "print(ser['Address 1 Postal Code'][long_zip_codes].unique())\n",
    "ser['Address 1 Postal Code'] = ser['Address 1 Postal Code'].str.slice(0, 5)"
   ]
  },
  {
   "cell_type": "code",
   "execution_count": null,
   "metadata": {},
   "outputs": [],
   "source": [
    "#Replacing all NaN zipcode values in service episode raw by looking up the organization zipcode from orgs_lookup_table\n",
    "\n",
    "ser['Address 1 Postal Code'] = ser_replace_nan('Address 1 Postal Code', 'ZipCode')"
   ]
  },
  {
   "cell_type": "code",
   "execution_count": null,
   "metadata": {},
   "outputs": [],
   "source": [
    "#Creating new csv in project folder of cleaned service episode raw data\n",
    "ser.to_csv(r'ser_cleaned.csv', index = False)\n",
    "\n",
    "ser_cleaned = pd.read_csv('ser_cleaned.csv')"
   ]
  },
  {
   "cell_type": "code",
   "execution_count": null,
   "metadata": {},
   "outputs": [],
   "source": [
    "#Finding the service types with the most service episodes(aka touchpoints)\n",
    "ser_cleaned_by_top_need = ser_cleaned.groupby('Service Type', as_index=False,)['ServiceEpisodeID'].nunique().sort_values(['ServiceEpisodeID'])\n",
    "\n",
    "print(ser_cleaned_by_top_need)"
   ]
  },
  {
   "cell_type": "markdown",
   "metadata": {},
   "source": [
    "I wanted to understand what the top needs were in the community."
   ]
  },
  {
   "cell_type": "code",
   "execution_count": null,
   "metadata": {},
   "outputs": [],
   "source": [
    "#Finding which client needed the most help and had the most service episodes\n",
    "print(\"Client ID\", ser_cleaned['ClientID'].value_counts().idxmax(), \"had the most service episodes.\")\n"
   ]
  },
  {
   "cell_type": "markdown",
   "metadata": {},
   "source": [
    "I also wanted to understand which client sought help the most. This helps me to know who needs priority when following up."
   ]
  },
  {
   "cell_type": "code",
   "execution_count": null,
   "metadata": {},
   "outputs": [],
   "source": [
    "#Finding which day of the month had the most service episodes\n",
    "print(ser_cleaned['Created At'].mode())"
   ]
  },
  {
   "cell_type": "markdown",
   "metadata": {},
   "source": [
    "This is the first step in being able to forecast. By seeing which date had the most service episodes."
   ]
  },
  {
   "cell_type": "code",
   "execution_count": null,
   "metadata": {},
   "outputs": [],
   "source": [
    "#Finding the number of unique clients by clientID\n",
    "unique_clients = len(pd.unique(ser_cleaned['ClientID']))\n",
    "print(\"There are\", unique_clients, \"unique clients.\")"
   ]
  },
  {
   "cell_type": "markdown",
   "metadata": {},
   "source": [
    "There was some duplication in the dataset, in order to calculate the averages correctly, I wanted to get rid of the duplicate values first. "
   ]
  },
  {
   "cell_type": "code",
   "execution_count": null,
   "metadata": {},
   "outputs": [],
   "source": [
    "#Dropping duplicate ages of duplicate clients so we can perform an average formula\n",
    "ser_unique_clients = ser_cleaned.drop_duplicates(subset = ['ClientID', 'Age'], keep='first')"
   ]
  },
  {
   "cell_type": "code",
   "execution_count": null,
   "metadata": {},
   "outputs": [],
   "source": [
    "#Calculating the average age of the unique clients\n",
    "print(\"The average age of a client is\", round(ser_unique_clients.Age.mean()), \"years old.\")"
   ]
  },
  {
   "cell_type": "code",
   "execution_count": null,
   "metadata": {},
   "outputs": [],
   "source": [
    "#Average number of touchpoints(service episodes) per unique client\n",
    "unique_service_epi = len(pd.unique(ser_cleaned['ServiceEpisodeID']))\n",
    "ser_per_client = round(unique_service_epi/unique_clients)\n",
    "print(\"There are\", unique_service_epi, \"unique service episodes, with an average of\" , ser_per_client, \"service episodes per client.\")"
   ]
  },
  {
   "cell_type": "code",
   "execution_count": null,
   "metadata": {},
   "outputs": [],
   "source": [
    "#Percentage of clients by gender\n",
    "ser_unique_genders = ser_unique_clients['Gender'].value_counts()\n",
    "\n",
    "ser_unique_genders_male = ser_unique_genders['Male']\n",
    "percent_male = round((ser_unique_genders_male/unique_clients)*100)\n",
    "print((round((ser_unique_genders_male/unique_clients)*100)), \"percent of the clients are male.\")\n",
    "\n",
    "ser_unique_genders_female = ser_unique_genders['Female']\n",
    "percent_female = round((ser_unique_genders_female/unique_clients)*100)\n",
    "print((round((ser_unique_genders_female/unique_clients)*100)), \"percent of the clients are female.\")\n",
    "\n",
    "ser_unique_genders_other = unique_clients - ser_unique_genders_female - ser_unique_genders_male\n",
    "percent_other = round((ser_unique_genders_other/unique_clients)*100)\n",
    "print((round((ser_unique_genders_other/unique_clients)*100)), \"percent of the clients are other/non-binary.\")"
   ]
  },
  {
   "cell_type": "code",
   "execution_count": null,
   "metadata": {},
   "outputs": [],
   "source": [
    "#Percentage of clients for Jefferson County\n",
    "ser_counties = ser_unique_clients['Address 1 County'].value_counts()\n",
    "print((round((ser_counties['Jefferson County']/unique_clients)*100)), \"percent of the clients come from Jefferson County.\")"
   ]
  },
  {
   "cell_type": "code",
   "execution_count": null,
   "metadata": {},
   "outputs": [],
   "source": [
    "#Zipcode with the highest count of clients\n",
    "ser_unique_clients = ser_unique_clients.astype({'Address 1 Postal Code': 'Int32'})\n",
    "highest_zipcode = ser_unique_clients['Address 1 Postal Code'].value_counts()\n",
    "print(highest_zipcode)"
   ]
  },
  {
   "cell_type": "markdown",
   "metadata": {},
   "source": [
    "This allows us to get more granular with the data by being able to target which zipcodes the clients are coming from. This will let us know, when it comes time to fund organizations, which organizations we can fund that are in the zipcodes where we can reach the most clients."
   ]
  },
  {
   "cell_type": "code",
   "execution_count": null,
   "metadata": {},
   "outputs": [],
   "source": [
    "#Plotting the highest needs by service episode volume\n",
    "plt.style.use('seaborn-pastel')\n",
    "plt.figure(figsize= (12,6))\n",
    "plt.barh('Service Type', 'ServiceEpisodeID', data = ser_cleaned_by_top_need)\n",
    "plt.ylabel('Service Type')\n",
    "plt.xlabel('Number of Service Episodes')\n",
    "plt.title('Top Community Needs')\n",
    "plt.tight_layout()\n",
    "plt.show()"
   ]
  },
  {
   "cell_type": "markdown",
   "metadata": {},
   "source": [
    "This bar chart gives us a visual of the top needs in the community based on touchpoints."
   ]
  },
  {
   "cell_type": "code",
   "execution_count": null,
   "metadata": {},
   "outputs": [],
   "source": [
    "#Plotting the gender makeup of the clients\n",
    "plt.style.use('seaborn-pastel')\n",
    "pie_chart_data = [percent_female, percent_male, percent_other]\n",
    "plt.pie(pie_chart_data, labels = ['Female', 'Male', 'Other'], autopct='%1.1f%%')\n",
    "plt.show()"
   ]
  },
  {
   "cell_type": "markdown",
   "metadata": {},
   "source": [
    "This pie chart shows us the gender makeup of the clients seeking services."
   ]
  }
 ],
 "metadata": {
  "kernelspec": {
   "display_name": "Python 3.10.1 64-bit",
   "language": "python",
   "name": "python3"
  },
  "language_info": {
   "codemirror_mode": {
    "name": "ipython",
    "version": 3
   },
   "file_extension": ".py",
   "mimetype": "text/x-python",
   "name": "python",
   "nbconvert_exporter": "python",
   "pygments_lexer": "ipython3",
   "version": "3.10.1"
  },
  "orig_nbformat": 4,
  "vscode": {
   "interpreter": {
    "hash": "87e744094bc309357373e3915610afcdf64d91f46163939be51d252fc3103966"
   }
  }
 },
 "nbformat": 4,
 "nbformat_minor": 2
}
