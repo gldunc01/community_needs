{
 "cells": [
  {
   "cell_type": "code",
   "execution_count": 61,
   "metadata": {},
   "outputs": [],
   "source": [
    "import pandas as pd\n",
    "import numpy as np\n",
    "import matplotlib.pyplot as plt"
   ]
  },
  {
   "cell_type": "code",
   "execution_count": 62,
   "metadata": {},
   "outputs": [],
   "source": [
    "#Reading in service episodes raw csv using pandas and changing some datatypes\n",
    "ser = pd.read_csv('service_episode_raw.csv')\n",
    "ser[['ClientID', 'ServiceEpisodeID']] = ser[['ClientID', 'ServiceEpisodeID']].astype(str)\n",
    "ser['Created At'] =  pd.to_datetime(ser['Created At'], format='%m/%d/%Y %H:%M')"
   ]
  },
  {
   "cell_type": "code",
   "execution_count": 63,
   "metadata": {},
   "outputs": [],
   "source": [
    "#Reading in the lookup table of organizations and their county, state and zipcodes\n",
    "orgs_lookup_table = pd.read_csv('orgs.csv')"
   ]
  },
  {
   "cell_type": "markdown",
   "metadata": {},
   "source": [
    "This lookup_table houses the information needed to fill in empty data points for the clients. Some of the clients have missing state, county and zip code information. Using this lookup_table, based on the organization that the client presented their need to, allows us to have an accurate picture of their address information."
   ]
  },
  {
   "cell_type": "code",
   "execution_count": 64,
   "metadata": {},
   "outputs": [],
   "source": [
    "#Replacing all NaN state values in service episode raw by looking up the organization states from orgs_lookup_table\n",
    "ser['Address 1 State']=np.where(ser['Address 1 State'].isnull(),ser['Originating Organization'].map(orgs_lookup_table.set_index('OrganizationID').State),ser['Address 1 State'])\n",
    "\n",
    "#Replacing all NaN county values in service episode raw by looking up the organization county from orgs_lookup_table\n",
    "ser['Address 1 County']=np.where(ser['Address 1 County'].isnull(),ser['Originating Organization'].map(orgs_lookup_table.set_index('OrganizationID').County),ser['Address 1 County'])"
   ]
  },
  {
   "cell_type": "code",
   "execution_count": 65,
   "metadata": {},
   "outputs": [
    {
     "name": "stdout",
     "output_type": "stream",
     "text": [
      "['40218-5250' '40110-0100' '40272-2587' '40219-4832' '40071-9602'\n",
      " '40220-0000' '40228-2016' '40129-0035' '40219-2252' '40215-1496'\n",
      " '40212-2927' '40258-4108']\n"
     ]
    }
   ],
   "source": [
    "#Finding and cleaning the 9-digit zipcodes. We want to truncate them to 5-digits\n",
    "long_zip_codes = ser['Address 1 Postal Code'].str.len() > 5\n",
    "print(ser['Address 1 Postal Code'][long_zip_codes].unique())\n",
    "ser['Address 1 Postal Code'] = ser['Address 1 Postal Code'].str.slice(0, 5)"
   ]
  },
  {
   "cell_type": "code",
   "execution_count": 66,
   "metadata": {},
   "outputs": [],
   "source": [
    "#Replacing all NaN zipcode values in service episode raw by looking up the organization zipcode from orgs_lookup_table\n",
    "ser['Address 1 Postal Code']=np.where(ser['Address 1 Postal Code'].isnull(),ser['Originating Organization'].map(orgs_lookup_table.set_index('OrganizationID').ZipCode),ser['Address 1 Postal Code'])"
   ]
  },
  {
   "cell_type": "code",
   "execution_count": 67,
   "metadata": {},
   "outputs": [],
   "source": [
    "#Creating new csv in project folder of cleaned service episode raw data\n",
    "ser.to_csv(r'ser_cleaned.csv', index = False)\n",
    "\n",
    "ser_cleaned = pd.read_csv('ser_cleaned.csv')"
   ]
  },
  {
   "cell_type": "code",
   "execution_count": 68,
   "metadata": {},
   "outputs": [
    {
     "ename": "AttributeError",
     "evalue": "'DataFrameGroupBy' object has no attribute 'mode'",
     "output_type": "error",
     "traceback": [
      "\u001b[1;31m---------------------------------------------------------------------------\u001b[0m",
      "\u001b[1;31mAttributeError\u001b[0m                            Traceback (most recent call last)",
      "\u001b[1;32mc:\\Users\\gduncan\\OneDrive - Metro United Way, Inc. (191100)\\Desktop\\Professional Development\\Python\\Code_Louisville\\community_needs\\need_assessment.ipynb Cell 9\u001b[0m in \u001b[0;36m<cell line: 4>\u001b[1;34m()\u001b[0m\n\u001b[0;32m      <a href='vscode-notebook-cell:/c%3A/Users/gduncan/OneDrive%20-%20Metro%20United%20Way%2C%20Inc.%20%28191100%29/Desktop/Professional%20Development/Python/Code_Louisville/community_needs/need_assessment.ipynb#ch0000008?line=0'>1</a>\u001b[0m \u001b[39m#Finding the service types with the most service episodes(aka touchpoints)\u001b[39;00m\n\u001b[0;32m      <a href='vscode-notebook-cell:/c%3A/Users/gduncan/OneDrive%20-%20Metro%20United%20Way%2C%20Inc.%20%28191100%29/Desktop/Professional%20Development/Python/Code_Louisville/community_needs/need_assessment.ipynb#ch0000008?line=1'>2</a>\u001b[0m ser_cleaned_by_top_need \u001b[39m=\u001b[39m ser_cleaned\u001b[39m.\u001b[39mgroupby(\u001b[39m'\u001b[39m\u001b[39mService Type\u001b[39m\u001b[39m'\u001b[39m, as_index\u001b[39m=\u001b[39m\u001b[39mFalse\u001b[39;00m,)[\u001b[39m'\u001b[39m\u001b[39mServiceEpisodeID\u001b[39m\u001b[39m'\u001b[39m]\u001b[39m.\u001b[39mnunique()\u001b[39m.\u001b[39msort_values([\u001b[39m'\u001b[39m\u001b[39mServiceEpisodeID\u001b[39m\u001b[39m'\u001b[39m])\n\u001b[1;32m----> <a href='vscode-notebook-cell:/c%3A/Users/gduncan/OneDrive%20-%20Metro%20United%20Way%2C%20Inc.%20%28191100%29/Desktop/Professional%20Development/Python/Code_Louisville/community_needs/need_assessment.ipynb#ch0000008?line=3'>4</a>\u001b[0m \u001b[39mprint\u001b[39m(ser_cleaned\u001b[39m.\u001b[39;49mgroupby(\u001b[39m'\u001b[39;49m\u001b[39mService Type\u001b[39;49m\u001b[39m'\u001b[39;49m, as_index\u001b[39m=\u001b[39;49m\u001b[39mFalse\u001b[39;49;00m,)[\u001b[39m'\u001b[39;49m\u001b[39mServiceEpisodeID\u001b[39;49m\u001b[39m'\u001b[39;49m]\u001b[39m.\u001b[39;49mmode())\n\u001b[0;32m      <a href='vscode-notebook-cell:/c%3A/Users/gduncan/OneDrive%20-%20Metro%20United%20Way%2C%20Inc.%20%28191100%29/Desktop/Professional%20Development/Python/Code_Louisville/community_needs/need_assessment.ipynb#ch0000008?line=5'>6</a>\u001b[0m \u001b[39mprint\u001b[39m(ser_cleaned_by_top_need)\n",
      "File \u001b[1;32mc:\\Users\\gduncan\\AppData\\Local\\Programs\\Python\\Python310\\lib\\site-packages\\pandas\\core\\groupby\\groupby.py:904\u001b[0m, in \u001b[0;36mGroupBy.__getattr__\u001b[1;34m(self, attr)\u001b[0m\n\u001b[0;32m    901\u001b[0m \u001b[39mif\u001b[39;00m attr \u001b[39min\u001b[39;00m \u001b[39mself\u001b[39m\u001b[39m.\u001b[39mobj:\n\u001b[0;32m    902\u001b[0m     \u001b[39mreturn\u001b[39;00m \u001b[39mself\u001b[39m[attr]\n\u001b[1;32m--> 904\u001b[0m \u001b[39mraise\u001b[39;00m \u001b[39mAttributeError\u001b[39;00m(\n\u001b[0;32m    905\u001b[0m     \u001b[39mf\u001b[39m\u001b[39m\"\u001b[39m\u001b[39m'\u001b[39m\u001b[39m{\u001b[39;00m\u001b[39mtype\u001b[39m(\u001b[39mself\u001b[39m)\u001b[39m.\u001b[39m\u001b[39m__name__\u001b[39m\u001b[39m}\u001b[39;00m\u001b[39m'\u001b[39m\u001b[39m object has no attribute \u001b[39m\u001b[39m'\u001b[39m\u001b[39m{\u001b[39;00mattr\u001b[39m}\u001b[39;00m\u001b[39m'\u001b[39m\u001b[39m\"\u001b[39m\n\u001b[0;32m    906\u001b[0m )\n",
      "\u001b[1;31mAttributeError\u001b[0m: 'DataFrameGroupBy' object has no attribute 'mode'"
     ]
    }
   ],
   "source": [
    "#Finding the service types with the most service episodes(aka touchpoints)\n",
    "ser_cleaned_by_top_need = ser_cleaned.groupby('Service Type', as_index=False,)['ServiceEpisodeID'].nunique().sort_values(['ServiceEpisodeID'])\n",
    "\n",
    "print(ser_cleaned_by_top_need)"
   ]
  },
  {
   "cell_type": "markdown",
   "metadata": {},
   "source": [
    "I wanted to understand what the top needs were in the community."
   ]
  },
  {
   "cell_type": "code",
   "execution_count": null,
   "metadata": {},
   "outputs": [
    {
     "name": "stdout",
     "output_type": "stream",
     "text": [
      "Client ID 336 had the most service episodes\n"
     ]
    }
   ],
   "source": [
    "#Finding which client needed the most help and had the most service episodes\n",
    "print(\"Client ID\", ser_cleaned['ClientID'].value_counts().idxmax(), \"had the most service episodes\")\n"
   ]
  },
  {
   "cell_type": "markdown",
   "metadata": {},
   "source": [
    "I also wanted to understand which client sought help the most. This helps me to know who needs priority when following up."
   ]
  },
  {
   "cell_type": "code",
   "execution_count": null,
   "metadata": {},
   "outputs": [
    {
     "name": "stdout",
     "output_type": "stream",
     "text": [
      "2022-06-07 21:16:00    28\n",
      "2022-06-16 15:33:00    11\n",
      "2022-06-13 14:57:00    10\n",
      "2022-06-09 20:22:00    10\n",
      "2022-06-30 17:13:00    10\n",
      "                       ..\n",
      "2022-06-09 13:20:00     1\n",
      "2022-06-21 13:08:00     1\n",
      "2022-06-30 13:00:00     1\n",
      "2022-06-21 18:44:00     1\n",
      "2022-06-24 15:52:00     1\n",
      "Name: Created At, Length: 2689, dtype: int64\n"
     ]
    }
   ],
   "source": [
    "#Finding which day of the month had the most service episodes\n",
    "print(ser_cleaned['Created At'].value_counts())"
   ]
  },
  {
   "cell_type": "markdown",
   "metadata": {},
   "source": [
    "This is the first step in being able to forecast. By seeing which date had the most service episodes."
   ]
  },
  {
   "cell_type": "code",
   "execution_count": null,
   "metadata": {},
   "outputs": [
    {
     "name": "stdout",
     "output_type": "stream",
     "text": [
      "There are 1106 unique clients\n"
     ]
    }
   ],
   "source": [
    "#Finding the number of unique clients by clientID\n",
    "unique_clients = len(pd.unique(ser_cleaned['ClientID']))\n",
    "print(\"There are\", unique_clients, \"unique clients\")"
   ]
  },
  {
   "cell_type": "markdown",
   "metadata": {},
   "source": [
    "There was some duplication in the dataset, in order to calculate the averages correctly, I wanted to get rid of the duplicate values first. "
   ]
  },
  {
   "cell_type": "code",
   "execution_count": null,
   "metadata": {},
   "outputs": [],
   "source": [
    "#Dropping duplicate ages of duplicate clients so we can perform an average formula\n",
    "ser_unique_clients = ser_cleaned.drop_duplicates(subset = ['ClientID', 'Age'], keep='first')"
   ]
  },
  {
   "cell_type": "code",
   "execution_count": null,
   "metadata": {},
   "outputs": [
    {
     "name": "stdout",
     "output_type": "stream",
     "text": [
      "The average age of a client is 40 years old\n"
     ]
    }
   ],
   "source": [
    "#Calculating the average age of the unique clients\n",
    "print(\"The average age of a client is\", round(ser_unique_clients.Age.mean()), \"years old\")"
   ]
  },
  {
   "cell_type": "code",
   "execution_count": null,
   "metadata": {},
   "outputs": [
    {
     "name": "stdout",
     "output_type": "stream",
     "text": [
      "There are 2209 unique service episodes, with an average of 2 service episodes per client\n"
     ]
    }
   ],
   "source": [
    "#Average number of touchpoints(service episodes) per unique client\n",
    "unique_service_epi = len(pd.unique(ser_cleaned['ServiceEpisodeID']))\n",
    "ser_per_client = round(unique_service_epi/unique_clients)\n",
    "print(\"There are\", unique_service_epi, \"unique service episodes, with an average of\" , ser_per_client, \"service episodes per client\")"
   ]
  },
  {
   "cell_type": "code",
   "execution_count": null,
   "metadata": {},
   "outputs": [
    {
     "name": "stdout",
     "output_type": "stream",
     "text": [
      "22 percent of the clients are male\n",
      "44 percent of the clients are female\n",
      "35 percent of the clients are other/non-binary\n"
     ]
    }
   ],
   "source": [
    "#Percentage of clients by gender\n",
    "ser_unique_genders = ser_unique_clients['Gender'].value_counts()\n",
    "\n",
    "ser_unique_genders_male = ser_unique_genders['Male']\n",
    "percent_male = round((ser_unique_genders_male/unique_clients)*100)\n",
    "print((round((ser_unique_genders_male/unique_clients)*100)), \"percent of the clients are male\")\n",
    "\n",
    "ser_unique_genders_female = ser_unique_genders['Female']\n",
    "percent_female = round((ser_unique_genders_female/unique_clients)*100)\n",
    "print((round((ser_unique_genders_female/unique_clients)*100)), \"percent of the clients are female\")\n",
    "\n",
    "ser_unique_genders_other = unique_clients - ser_unique_genders_female - ser_unique_genders_male\n",
    "percent_other = round((ser_unique_genders_other/unique_clients)*100)\n",
    "print((round((ser_unique_genders_other/unique_clients)*100)), \"percent of the clients are other/non-binary\")"
   ]
  },
  {
   "cell_type": "code",
   "execution_count": null,
   "metadata": {},
   "outputs": [
    {
     "name": "stdout",
     "output_type": "stream",
     "text": [
      "71 percent of the clients come from Jefferson County\n"
     ]
    }
   ],
   "source": [
    "#Percentage of clients for Jefferson County\n",
    "ser_counties = ser_unique_clients['Address 1 County'].value_counts()\n",
    "print((round((ser_counties['Jefferson County']/unique_clients)*100)), \"percent of the clients come from Jefferson County\")"
   ]
  },
  {
   "cell_type": "code",
   "execution_count": null,
   "metadata": {},
   "outputs": [
    {
     "name": "stdout",
     "output_type": "stream",
     "text": [
      "40202.0    87\n",
      "40211.0    74\n",
      "47150.0    60\n",
      "40210.0    59\n",
      "40203.0    56\n",
      "           ..\n",
      "42131.0     1\n",
      "40361.0     1\n",
      "42141.0     1\n",
      "41075.0     1\n",
      "42345.0     1\n",
      "Name: Address 1 Postal Code, Length: 144, dtype: int64\n"
     ]
    }
   ],
   "source": [
    "#Zipcode with the highest count of clients\n",
    "highest_zipcode = ser_unique_clients['Address 1 Postal Code'].value_counts()\n",
    "print(highest_zipcode)"
   ]
  },
  {
   "cell_type": "markdown",
   "metadata": {},
   "source": [
    "This allows us to get more granular with the data by being able to target which zipcodes the clients are coming from. This will let us know, when it comes time to fund organizations, which organizations we can fund that are in the zipcodes where we can reach the most clients."
   ]
  },
  {
   "cell_type": "code",
   "execution_count": null,
   "metadata": {},
   "outputs": [
    {
     "data": {
      "image/png": "[encoded data removed]",
      "text/plain": [
       "<Figure size 864x432 with 1 Axes>"
      ]
     },
     "metadata": {
      "needs_background": "light"
     },
     "output_type": "display_data"
    }
   ],
   "source": [
    "#Plotting the highest needs by service episode volume\n",
    "plt.style.use('seaborn-pastel')\n",
    "plt.figure(figsize= (12,6))\n",
    "plt.barh('Service Type', 'ServiceEpisodeID', data = ser_cleaned_by_top_need)\n",
    "plt.ylabel('Service Type')\n",
    "plt.xlabel('Number of Service Episodes')\n",
    "plt.title('Top Community Needs')\n",
    "plt.tight_layout()\n",
    "plt.show()"
   ]
  },
  {
   "cell_type": "markdown",
   "metadata": {},
   "source": [
    "This bar chart gives us a visual of the top needs in the community based on touchpoints."
   ]
  },
  {
   "cell_type": "code",
   "execution_count": null,
   "metadata": {},
   "outputs": [
    {
     "data": {
      "image/png": "[encoded data removed]",
      "text/plain": [
       "<Figure size 432x288 with 1 Axes>"
      ]
     },
     "metadata": {},
     "output_type": "display_data"
    }
   ],
   "source": [
    "#Plotting the gender makeup of the clients\n",
    "plt.style.use('seaborn-pastel')\n",
    "pie_chart_data = [percent_female, percent_male, percent_other]\n",
    "plt.pie(pie_chart_data, labels = ['Female', 'Male', 'Other'], autopct='%1.1f%%')\n",
    "plt.show()"
   ]
  },
  {
   "cell_type": "markdown",
   "metadata": {},
   "source": [
    "This pie chart shows us the gender makeup of the clients seeking services."
   ]
  }
 ],
 "metadata": {
  "kernelspec": {
   "display_name": "Python 3.10.1 64-bit",
   "language": "python",
   "name": "python3"
  },
  "language_info": {
   "codemirror_mode": {
    "name": "ipython",
    "version": 3
   },
   "file_extension": ".py",
   "mimetype": "text/x-python",
   "name": "python",
   "nbconvert_exporter": "python",
   "pygments_lexer": "ipython3",
   "version": "3.10.1"
  },
  "orig_nbformat": 4,
  "vscode": {
   "interpreter": {
    "hash": "87e744094bc309357373e3915610afcdf64d91f46163939be51d252fc3103966"
   }
  }
 },
 "nbformat": 4,
 "nbformat_minor": 2
}
